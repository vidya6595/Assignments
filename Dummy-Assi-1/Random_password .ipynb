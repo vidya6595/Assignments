{
 "cells": [
  {
   "cell_type": "code",
   "execution_count": 4,
   "metadata": {},
   "outputs": [
    {
     "name": "stdout",
     "output_type": "stream",
     "text": [
      "Password :  I8JRbTmMKa~O\n"
     ]
    }
   ],
   "source": [
    "import random\n",
    "import array\n",
    "  \n",
    "# maximum length of password needed\n",
    "# this can be changed to suit your password length\n",
    "\n",
    "Max_Len = 12\n",
    "  \n",
    "# declare arrays of the character that we need in out password\n",
    "# Represented as chars to enable easy string concatenation\n",
    "\n",
    "Digits     = ['0', '1', '2', '3', '4', '5', '6', '7', '8', '9']  \n",
    "Lower_Char = ['a', 'b', 'c', 'd', 'e', 'f', 'g', 'h', 'i', 'j', 'k', 'm', 'n', 'o', 'p', 'q','r', 's', 't', 'u', 'v', 'w', 'x', 'y','z']\n",
    "Upper_Char = ['A', 'B', 'C', 'D', 'E', 'F', 'G', 'H', 'I', 'J', 'K', 'M', 'N', 'O', 'p', 'Q','R', 'S', 'T', 'U', 'V', 'W', 'X', 'Y','Z']\n",
    "Symbols    = ['@', '#', '$', '%', '=', ':', '?', '.', '/', '|', '~', '>', '*', '(', ')', '<']\n",
    "  \n",
    "# combines all the character arrays above to form one array\n",
    "\n",
    "Combined = Digits + Upper_Char + Lower_Char + Symbols\n",
    "  \n",
    "# randomly select at least one character from each character set above\n",
    "\n",
    "rand_digit = random.choice(Digits)\n",
    "rand_upper = random.choice(Upper_Char)\n",
    "rand_lower = random.choice(Lower_Char)\n",
    "rand_symbol = random.choice(Symbols)\n",
    "  \n",
    "# combine the character randomly selected above\n",
    "# at this stage, the password contains only 4 characters but \n",
    "# we want a 12-character password \n",
    "\n",
    "temp_pass = rand_digit + rand_upper + rand_lower + rand_symbol\n",
    "  \n",
    "# now that we are sure we have at least one character from each\n",
    "# set of characters, we fill the rest of\n",
    "# the password length by selecting randomly from the combined \n",
    "# list of character above.\n",
    "\n",
    "for x in range(Max_Len - 4):\n",
    "    temp_pass = temp_pass + random.choice(Combined)\n",
    "  \n",
    "    # convert temporary password into array and shuffle to \n",
    "    # prevent it from having a consistent pattern\n",
    "    # where the beginning of the password is predictable\n",
    "    \n",
    "    temp_pass_list = array.array('u', temp_pass)\n",
    "    random.shuffle(temp_pass_list)\n",
    "  \n",
    "    # traverse the temporary password array and append the chars to form the password\n",
    "\n",
    "password = \"\"\n",
    "for x in temp_pass_list:\n",
    "        password = password + x\n",
    "          \n",
    "# print out password\n",
    "\n",
    "print(\"Password : \",password)"
   ]
  },
  {
   "cell_type": "code",
   "execution_count": null,
   "metadata": {},
   "outputs": [],
   "source": []
  }
 ],
 "metadata": {
  "kernelspec": {
   "display_name": "Python 3",
   "language": "python",
   "name": "python3"
  },
  "language_info": {
   "codemirror_mode": {
    "name": "ipython",
    "version": 3
   },
   "file_extension": ".py",
   "mimetype": "text/x-python",
   "name": "python",
   "nbconvert_exporter": "python",
   "pygments_lexer": "ipython3",
   "version": "3.7.6"
  }
 },
 "nbformat": 4,
 "nbformat_minor": 4
}
